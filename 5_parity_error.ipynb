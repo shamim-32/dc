{
 "cells": [
  {
   "cell_type": "code",
   "execution_count": 1,
   "metadata": {},
   "outputs": [
    {
     "name": "stdout",
     "output_type": "stream",
     "text": [
      "No parity errors detected.\n"
     ]
    }
   ],
   "source": [
    "def check_even_parity(block):\n",
    "    # Check the row parity\n",
    "    row_parity_correct = True\n",
    "    for row in block:\n",
    "        if sum(row) % 2 != 0:\n",
    "            print(f\"Row {block.index(row) + 1} has incorrect parity!\")\n",
    "            row_parity_correct = False\n",
    "\n",
    "    # Check the column parity\n",
    "    column_parity_correct = True\n",
    "    for col in range(len(block[0])):\n",
    "        column_sum = sum(row[col] for row in block)\n",
    "        if column_sum % 2 != 0:\n",
    "            print(f\"Column {col + 1} has incorrect parity!\")\n",
    "            column_parity_correct = False\n",
    "\n",
    "    if row_parity_correct and column_parity_correct:\n",
    "        print(\"No parity errors detected.\")\n",
    "    else:\n",
    "        print(\"Parity errors found.\")\n",
    "\n",
    "# Example 4x8 block\n",
    "data_block = [\n",
    "    [1, 0, 1, 0, 1, 0, 1, 0],  # Row 1\n",
    "    [0, 1, 0, 1, 0, 1, 0, 1],  # Row 2\n",
    "    [1, 1, 1, 1, 0, 0, 0, 0],  # Row 3\n",
    "    [0, 0, 0, 0, 1, 1, 1, 1],  # Row 4\n",
    "]\n",
    "\n",
    "# Check parity for the given block\n",
    "check_even_parity(data_block)\n"
   ]
  }
 ],
 "metadata": {
  "kernelspec": {
   "display_name": "Python 3",
   "language": "python",
   "name": "python3"
  },
  "language_info": {
   "codemirror_mode": {
    "name": "ipython",
    "version": 3
   },
   "file_extension": ".py",
   "mimetype": "text/x-python",
   "name": "python",
   "nbconvert_exporter": "python",
   "pygments_lexer": "ipython3",
   "version": "3.12.3"
  }
 },
 "nbformat": 4,
 "nbformat_minor": 2
}
